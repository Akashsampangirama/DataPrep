{
 "cells": [
  {
   "cell_type": "markdown",
   "metadata": {},
   "source": [
    "German - python -m spacy download de_core_news_sm\n",
    "\n",
    "English - python -m spacy download en_core_web_sm\n",
    "\n",
    "French - python -m spacy download fr_core_news_sm\n",
    "\n",
    "Italian - python -m spacy download it_core_news_sm\n",
    "\n",
    "Spanish - python -m spacy download es_core_news_sm\n",
    "\n",
    "Dutch - python -m spacy download nl_core_news_sm"
   ]
  },
  {
   "cell_type": "code",
   "execution_count": null,
   "metadata": {},
   "outputs": [],
   "source": [
    "import spacy\n",
    "nlg = spacy.load(\"de_core_news_sm\")\n",
    "import fr_core_news_sm\n",
    "nlf = fr_core_news_sm.load()\n",
    "import en_core_web_sm\n",
    "nle = en_core_web_sm.load()\n",
    "import it_core_news_sm\n",
    "nli = it_core_news_sm.load()\n",
    "import es_core_news_sm\n",
    "nls = es_core_news_sm.load()\n",
    "import nl_core_news_sm\n",
    "nld = nl_core_news_sm.load()"
   ]
  },
  {
   "cell_type": "code",
   "execution_count": null,
   "metadata": {},
   "outputs": [],
   "source": [
    "pos_tagsf = []\n",
    "for i in df_data_prd['old_upc14'][(df_data_prd['country_id']=='118440') & ~(df_data_prd['NEW_DESC_DIFF'].isnull())]:\n",
    "    ln_val = nlf(df_data_prd['NEW_DESC_DIFF'][(df_data_prd['old_upc14']==i)].item())\n",
    "    for j in ln_val:\n",
    "        pos_tagsf.append([i,j.pos_])\n",
    "pos_tagsi = []\n",
    "for i in df_data_prd['old_upc14'][(df_data_prd['country_id']=='118441') & ~(df_data_prd['NEW_DESC_DIFF'].isnull())]:\n",
    "    ln_val = nli(df_data_prd['NEW_DESC_DIFF'][(df_data_prd['old_upc14']==i)].item())\n",
    "    for j in ln_val:\n",
    "        pos_tagsi.append([i,j.pos_])\n",
    "pos_tagsg = []\n",
    "for i in df_data_prd['old_upc14'][(df_data_prd['country_id']=='118442') & ~(df_data_prd['NEW_DESC_DIFF'].isnull())]:\n",
    "    ln_val = nlg(df_data_prd['NEW_DESC_DIFF'][(df_data_prd['old_upc14']==i)].item())\n",
    "    for j in ln_val:\n",
    "        pos_tagsg.append([i,j.pos_])\n",
    "pos_tagss = []\n",
    "for i in df_data_prd['old_upc14'][(df_data_prd['country_id']=='118443') & ~(df_data_prd['NEW_DESC_DIFF'].isnull())]:\n",
    "    ln_val = nls(df_data_prd['NEW_DESC_DIFF'][(df_data_prd['old_upc14']==i)].item())\n",
    "    for j in ln_val:\n",
    "        pos_tagss.append([i,j.pos_])\n",
    "pos_tagsu = []\n",
    "for i in df_data_prd['old_upc14'][(df_data_prd['country_id']=='118444') & ~(df_data_prd['NEW_DESC_DIFF'].isnull())]:\n",
    "    ln_val = nle(df_data_prd['NEW_DESC_DIFF'][(df_data_prd['old_upc14']==i)].item())\n",
    "    for j in ln_val:\n",
    "        pos_tagsu.append([i,j.pos_])\n",
    "pos_tagsn = []\n",
    "for i in df_data_prd['old_upc14'][(df_data_prd['country_id']=='118445') & ~(df_data_prd['NEW_DESC_DIFF'].isnull())]:\n",
    "    ln_val = nld(df_data_prd['NEW_DESC_DIFF'][(df_data_prd['old_upc14']==i)].item())\n",
    "    for j in ln_val:\n",
    "        pos_tagsn.append([i,j.pos_])\n",
    "pos_tagsa = []\n",
    "for i in df_data_prd['old_upc14'][(df_data_prd['country_id']=='118448') & ~(df_data_prd['NEW_DESC_DIFF'].isnull())]:\n",
    "    ln_val = nle(df_data_prd['NEW_DESC_DIFF'][(df_data_prd['old_upc14']==i)].item())\n",
    "    for j in ln_val:\n",
    "        pos_tagsa.append([i,j.pos_])\n",
    "        "
   ]
  },
  {
   "cell_type": "code",
   "execution_count": null,
   "metadata": {},
   "outputs": [],
   "source": [
    "df_pos_e = pd.DataFrame(pos_tagse, columns=[\"upc14\",\"POS\"]) \n",
    "df_pos_e['cntry']='1'\n",
    "df_pos_f = pd.DataFrame(pos_tagsf, columns=[\"upc14\",\"POS\"]) \n",
    "df_pos_f['cntry']='118440'\n",
    "df_pos_i = pd.DataFrame(pos_tagsi, columns=[\"upc14\",\"POS\"])\n",
    "df_pos_i['cntry']='118441'\n",
    "df_pos_g = pd.DataFrame(pos_tagsg, columns=[\"upc14\",\"POS\"])\n",
    "df_pos_g['cntry']='118442'\n",
    "df_pos_s = pd.DataFrame(pos_tagss, columns=[\"upc14\",\"POS\"])\n",
    "df_pos_s['cntry']='118443'\n",
    "df_pos_u = pd.DataFrame(pos_tagsu, columns=[\"upc14\",\"POS\"])\n",
    "df_pos_u['cntry']='118444'\n",
    "df_pos_n = pd.DataFrame(pos_tagsn, columns=[\"upc14\",\"POS\"])\n",
    "df_pos_n['cntry']='118445'\n",
    "df_pos_a = pd.DataFrame(pos_tagsa, columns=[\"upc14\",\"POS\"])\n",
    "df_pos_a['cntry']='118448'"
   ]
  },
  {
   "cell_type": "code",
   "execution_count": null,
   "metadata": {},
   "outputs": [],
   "source": [
    "frames = [df_pos_e,df_pos_f,df_pos_i,df_pos_g,df_pos_s,df_pos_u,df_pos_n,df_pos_a]\n",
    "df_pos_dt = pd.concat(frames)"
   ]
  }
 ],
 "metadata": {
  "kernelspec": {
   "display_name": "Python 3",
   "language": "python",
   "name": "python3"
  },
  "language_info": {
   "codemirror_mode": {
    "name": "ipython",
    "version": 3
   },
   "file_extension": ".py",
   "mimetype": "text/x-python",
   "name": "python",
   "nbconvert_exporter": "python",
   "pygments_lexer": "ipython3",
   "version": "3.8.3"
  }
 },
 "nbformat": 4,
 "nbformat_minor": 4
}
